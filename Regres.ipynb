{
 "cells": [
  {
   "cell_type": "code",
   "execution_count": 12,
   "metadata": {},
   "outputs": [],
   "source": [
    "import numpy as np\n",
    "import matplotlib.pyplot as plt\n",
    "import pandas as pd"
   ]
  },
  {
   "cell_type": "code",
   "execution_count": 13,
   "metadata": {},
   "outputs": [],
   "source": [
    "X = np.random.rand(100, 1) \n",
    "y = 2 * X + 3 + np.random.randn(100, 1)"
   ]
  },
  {
   "cell_type": "code",
   "execution_count": 14,
   "metadata": {},
   "outputs": [],
   "source": [
    "#X = (X - np.mean(X))/np.std(X)\n",
    "#y = (y - np.mean(y))/np.std(y)"
   ]
  },
  {
   "cell_type": "code",
   "execution_count": 15,
   "metadata": {
    "scrolled": false
   },
   "outputs": [
    {
     "data": {
      "image/png": "[encoded data removed]",
      "text/plain": [
       "<Figure size 432x288 with 1 Axes>"
      ]
     },
     "metadata": {
      "needs_background": "light"
     },
     "output_type": "display_data"
    }
   ],
   "source": [
    "plt.scatter(X, y)\n",
    "plt.show()"
   ]
  },
  {
   "cell_type": "code",
   "execution_count": null,
   "metadata": {},
   "outputs": [],
   "source": []
  },
  {
   "cell_type": "code",
   "execution_count": 16,
   "metadata": {},
   "outputs": [],
   "source": [
    "def cost(X,y,a,b):\n",
    "    N=len(X)\n",
    "    total_error = 0\n",
    "    for i in range(N):\n",
    "        total_error += (y[i] - (a*X[i] + b + np.random.randn(100, 1)))**2\n",
    "    return np.mean(total_error/(2*N))"
   ]
  },
  {
   "cell_type": "code",
   "execution_count": 17,
   "metadata": {},
   "outputs": [],
   "source": [
    "def update_weights(X, y, a, b, learning_rate):\n",
    "    grad_a = 0\n",
    "    grad_b = 0\n",
    "    N = len(X)\n",
    "    for i in range(N):\n",
    "        y_point = a*X[i] + b + np.random.randn(100, 1)\n",
    "        grad_a += -2*X[i] * (y[i] - y_point[i])\n",
    "        grad_b += -2*(y[i] - y_point[i])\n",
    "    a -= (grad_a / N) * learning_rate\n",
    "    b -= (grad_b / N) * learning_rate\n",
    "    return a, b"
   ]
  },
  {
   "cell_type": "code",
   "execution_count": 18,
   "metadata": {},
   "outputs": [],
   "source": [
    "def train(X, y, a, b, learning_rate, iters):\n",
    "    cost_h = []\n",
    "\n",
    "    for i in range(iters):\n",
    "        a,b = update_weights(X, y, a, b, learning_rate)\n",
    "        cos = cost(X,y,a,b)\n",
    "        cost_h.append(cos)\n",
    "\n",
    "    return a, b, cos"
   ]
  },
  {
   "cell_type": "code",
   "execution_count": 19,
   "metadata": {
    "scrolled": true
   },
   "outputs": [
    {
     "name": "stdout",
     "output_type": "stream",
     "text": [
      "(array([2.15317979]), array([2.82722204]), 0.9803483478488303)\n"
     ]
    }
   ],
   "source": [
    "zf=train(X,y,0,0,0.1,1000)\n",
    "print (zf)"
   ]
  },
  {
   "cell_type": "code",
   "execution_count": 20,
   "metadata": {},
   "outputs": [
    {
     "data": {
      "image/png": "[encoded data removed]",
      "text/plain": [
       "<Figure size 432x288 with 1 Axes>"
      ]
     },
     "metadata": {
      "needs_background": "light"
     },
     "output_type": "display_data"
    }
   ],
   "source": [
    "Y_pred = zf[0]*X + zf[1] + np.random.randn(100, 1)\n",
    "\n",
    "plt.scatter(X, y) \n",
    "plt.plot([min(X), max(X)], [min(Y_pred), max(Y_pred)], color='red')  # regression line\n",
    "plt.show()"
   ]
  },
  {
   "cell_type": "code",
   "execution_count": null,
   "metadata": {},
   "outputs": [],
   "source": []
  },
  {
   "cell_type": "code",
   "execution_count": null,
   "metadata": {},
   "outputs": [],
   "source": []
  },
  {
   "cell_type": "code",
   "execution_count": null,
   "metadata": {},
   "outputs": [],
   "source": []
  },
  {
   "cell_type": "code",
   "execution_count": null,
   "metadata": {},
   "outputs": [],
   "source": []
  }
 ],
 "metadata": {
  "kernelspec": {
   "display_name": "Python 3",
   "language": "python",
   "name": "python3"
  },
  "language_info": {
   "codemirror_mode": {
    "name": "ipython",
    "version": 3
   },
   "file_extension": ".py",
   "mimetype": "text/x-python",
   "name": "python",
   "nbconvert_exporter": "python",
   "pygments_lexer": "ipython3",
   "version": "3.7.3"
  }
 },
 "nbformat": 4,
 "nbformat_minor": 2
}
